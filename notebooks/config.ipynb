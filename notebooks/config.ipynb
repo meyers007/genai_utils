{
 "cells": [
  {
   "cell_type": "code",
   "execution_count": 3,
   "id": "5e139299",
   "metadata": {},
   "outputs": [
    {
     "name": "stdout",
     "output_type": "stream",
     "text": [
      "Overwriting genai_utils/config.py\n"
     ]
    }
   ],
   "source": [
    "%%writefile genai_utils/config.py\n",
    "import os, sys\n",
    "\n",
    "def unsetproxy():\n",
    "    if 'http_proxy' in os.environ:\n",
    "        del os.environ['http_proxy']\n",
    "        del os.environ['https_proxy']\n",
    "        del os.environ['HTTP_PROXY']\n",
    "        del os.environ['HTTPS_PROXY']\n",
    "    \n",
    "def setproxy(proxy=\"\"):\n",
    "    os.environ['http_proxy'] = proxy\n",
    "    os.environ['https_proxy']=proxy\n",
    "\n",
    "# ~~~~~~~~~~~~~~~~~~~~~~~~~~~~~~~~~~~~~~~~~~~~~~~~~~~~~~~~~~~~~~~~~~~~~~~~~~~~~~~~\n",
    "try:\n",
    "    from dotenv import load_dotenv, find_dotenv\n",
    "    if os.path.exists(os.path.expanduser(\".env\")):\n",
    "        load_dotenv(os.path.expanduser(\".env\"))\n",
    "    load_dotenv(find_dotenv(\"./.env\"))\n",
    "except ImportError:\n",
    "    print(\"dotenv not found!, skipping...\")\n",
    "\n",
    "if os.path.exists(\"my_config.py\"):\n",
    "    import my_config\n",
    "    from my_config import *\n",
    "else:\n",
    "    home_env = os.path.expanduser(\"~/.django/\")\n",
    "    home_con = home_env+ \"/my_config.py\"\n",
    "    if not (home_env in sys.path):\n",
    "        sys.path.append(home_env)\n",
    "\n",
    "    if os.path.exists(home_con):\n",
    "        import my_config\n",
    "        from my_config import *\n",
    "\n",
    "# ~~~~~~~~~~~~~~~~~~~~~~~~~~~~~~~~~~~~~~~~~~~~~~~~~~~~~~~~~~~~~~~~~~~~~~~~~~~~~~~~\n",
    "def get_from_env_or_config(key):\n",
    "    v = os.environ.get(key, \"\")\n",
    "    if (v):\n",
    "        return v\n",
    "    try:\n",
    "        v = vars(my_config).get(key)\n",
    "        return v\n",
    "    except:\n",
    "        return None"
   ]
  },
  {
   "cell_type": "markdown",
   "id": "f25ac341",
   "metadata": {},
   "source": [
    "# Test"
   ]
  },
  {
   "cell_type": "code",
   "execution_count": 2,
   "id": "95cd65c0",
   "metadata": {},
   "outputs": [
    {
     "data": {
      "text/plain": [
       "'https://platform-elasticsearch.apps.nsrca-ocpd.ssc.lmco.com'"
      ]
     },
     "execution_count": 2,
     "metadata": {},
     "output_type": "execute_result"
    }
   ],
   "source": [
    "from genai_utils import config\n",
    "\n",
    "config.ES_URL"
   ]
  }
 ],
 "metadata": {
  "kernelspec": {
   "display_name": "py312",
   "language": "python",
   "name": "python3"
  },
  "language_info": {
   "codemirror_mode": {
    "name": "ipython",
    "version": 3
   },
   "file_extension": ".py",
   "mimetype": "text/x-python",
   "name": "python",
   "nbconvert_exporter": "python",
   "pygments_lexer": "ipython3",
   "version": "3.12.7"
  }
 },
 "nbformat": 4,
 "nbformat_minor": 5
}
