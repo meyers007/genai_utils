{
 "cells": [
  {
   "cell_type": "code",
   "execution_count": 52,
   "id": "379faccb",
   "metadata": {},
   "outputs": [],
   "source": [
    "#%%writefile genai_utils/describe_image.py\n",
    "#!/usr/bin/env python \n",
    "\n",
    "'''\n",
    "python -m genai_utils.index_imges --directory </path/to/images>\n",
    "\n",
    "'''\n",
    "from ollama import generate\n",
    "\n",
    "# ~~~~~~~~~~~~~~~~~~~~~~~~~~~~~~~~~~~~~~~~~~~~~~~~~~~~~~~~~~~~~~~~~~~~~~~~~~~~~~~~~~~~~~~~~~~~~~~~~~~~\n",
    "DEFAULT_MODEL = 'qwen2.5vl'\n",
    "\n",
    "DEFAULT_SYSTEM_PROMPT = \"\"\"\n",
    "You are an image analyst who has been tasked with describing images.\n",
    "Your goal is to enable retrieving the images based on the content of your descriptions.\n",
    "\"\"\"\n",
    "\n",
    "DEFAULT_USER_PROMPT = \"\"\"\n",
    "Describe this image.\n",
    "Provide a thorough and detailed description, focusing on identifying and describing objects in the image.\n",
    "Use denotative rather than connotative language. \n",
    "Read the text in the images and include it in the description without including the location of font name.\n",
    "Do not explain how you are describing the image. Do not use any \"I\" statements.\n",
    "\"\"\"\n",
    "\n",
    "def describe_image(image_data, prompt=DEFAULT_USER_PROMPT, system=DEFAULT_SYSTEM_PROMPT, model=DEFAULT_MODEL):\n",
    "    result = generate(model=model, prompt=prompt, images=[image_data])\n",
    "    return result['response']\n",
    "\n",
    "\n",
    "\n",
    "def checkMatched(query, descritpion):\n",
    "    prompt=f\"\"\"\n",
    "You are a great critic who can rank query and descritpion on the scale of 1 to 5.\n",
    "You will give 0 if the query is not answered by the descritpion.\n",
    "You will give a rank of 5 if query perfectly matches the descritpion.\n",
    "Give a rank of intemediate number from 0 to 5 if there is a partial match of key concepts in the descritpion to query.\n",
    "A perfect match is when the query matches the description very closely.\n",
    "if query does not entail the description give a score of 3\n",
    "\n",
    "Please rank the following query and descritpion and just return the rank and explain why you gave the ranking\n",
    "\n",
    "query: {query}\\n \n",
    "\n",
    "descritpion: {descritpion}.\n",
    "\"\"\"\n",
    "    result=generate(model=DEFAULT_MODEL, prompt=prompt)\n",
    "    return result['response']\n"
   ]
  },
  {
   "cell_type": "code",
   "execution_count": null,
   "id": "940251cf",
   "metadata": {},
   "outputs": [
    {
     "data": {
      "text/plain": [
       "'The image is a close-up portrait of an individual. The person is wearing glasses with a thin frame, and the lenses appear clear. The individual has a bald head with some visible hair on the sides of the head. The background is blurred, with shades of green, suggesting an outdoor setting with foliage. The person is wearing a dark-colored shirt or jacket. The name \"Petr Vojtehovsky\" is displayed at the bottom of the image in a simple, sans-serif font. The lighting is even, and the image is focused on the face, with the background intentionally out of focus to emphasize the subject.'"
      ]
     },
     "execution_count": 53,
     "metadata": {},
     "output_type": "execute_result"
    }
   ],
   "source": [
    "from genai_utils.describe_image import describe_image\n",
    "\n",
    "file=\"/Users/e346104/Downloads/colpali/petr1.png\"\n",
    "#describe_image(file)"
   ]
  },
  {
   "cell_type": "code",
   "execution_count": 54,
   "id": "738b333e",
   "metadata": {},
   "outputs": [
    {
     "data": {
      "text/plain": [
       "'Rank: 4\\n\\nExplanation: The description provides a detailed account of a rocket launch, which aligns well with the query \"launch.\" The description mentions a rocket, its ascent, and the presence of smoke or exhaust trails, which are all key elements of a launch. The description also provides additional context about the rocket\\'s appearance and the lighting conditions, which adds to the richness of the description but is not directly related to the query. The description does not explicitly state that it is a rocket launch, but the key concepts of a launch are present. Therefore, a rank of 4 is given as it is a strong match but not a perfect match.'"
      ]
     },
     "execution_count": 54,
     "metadata": {},
     "output_type": "execute_result"
    }
   ],
   "source": [
    "q = \"launch\"\n",
    "d = '''\n",
    "The image depicts a rocket launch. The rocket is visible against a backdrop of a clear sky, with smoke or exhaust trails emanating from its base, \n",
    "indicating it is in the process of ascending. The rocket appears to be a single-stage or multi-stage vehicle, with a cylindrical \n",
    "body and a pointed tip. The lighting suggests it is either early morning or late evening, as the sky has a soft, warm glow. \n",
    "The image is somewhat blurry, which might be due to the motion of the rocket or the distance from which the photo was taken.\n",
    "'''\n",
    "checkMatched(q,d)\n",
    "\n",
    "\n"
   ]
  },
  {
   "cell_type": "code",
   "execution_count": null,
   "id": "d0746286",
   "metadata": {},
   "outputs": [],
   "source": []
  }
 ],
 "metadata": {
  "kernelspec": {
   "display_name": "py312",
   "language": "python",
   "name": "python3"
  },
  "language_info": {
   "codemirror_mode": {
    "name": "ipython",
    "version": 3
   },
   "file_extension": ".py",
   "mimetype": "text/x-python",
   "name": "python",
   "nbconvert_exporter": "python",
   "pygments_lexer": "ipython3",
   "version": "3.12.7"
  }
 },
 "nbformat": 4,
 "nbformat_minor": 5
}
