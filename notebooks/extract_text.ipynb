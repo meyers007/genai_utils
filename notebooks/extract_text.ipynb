{
 "cells": [
  {
   "cell_type": "code",
   "execution_count": 1,
   "metadata": {},
   "outputs": [],
   "source": [
    "%reload_ext autoreload\n",
    "%autoreload 2"
   ]
  },
  {
   "cell_type": "code",
   "execution_count": null,
   "metadata": {},
   "outputs": [
    {
     "name": "stdout",
     "output_type": "stream",
     "text": [
      "Overwriting genai_utils/extract_text.py\n"
     ]
    }
   ],
   "source": [
    "%%writefile genai_utils/extract_text.py\n",
    "#!/usr/bin/env python\n",
    "\n",
    "import sys, os, logging, pandas as pd\n",
    "logger = logging.getLogger( \"genai_utils\" )\n",
    "from mangorest.mango import webapi\n",
    "\n",
    "# ------------------------------------------------------------------------------------------\n",
    "# Simply extarct text rfrom PDF file\n",
    "def extractTextPDF(file):\n",
    "    import pdfplumber\n",
    "\n",
    "    #from pdfplumber.page import Page\n",
    "    #from pdfplumber.pdf import PDF\n",
    "    #from pdfplumber.table import Table\n",
    "    #from pdfplumber.utils import intersects_bbox\n",
    "\n",
    "    text = []\n",
    "    #print(f\"**** OPENINF FILE ===>  {f}\")\n",
    "    with pdfplumber.open(file) as doc:\n",
    "        for page in doc.pages:\n",
    "            #lines = page.extract_text_lines()\n",
    "            #txt = \"\\n\".join([l['text'] for l in lines])\n",
    "            txt = page.extract_text_simple()\n",
    "            text.append(txt)\n",
    "\n",
    "    all=\"\\n\\n\".join(text)\n",
    "    return all\n",
    "\n",
    "# ------------------------------------------------------------------------------------------\n",
    "# Simply extarct text rfrom PDF file\n",
    "def extractDocx(file):\n",
    "    import docx\n",
    "    document = docx.Document(file)\n",
    "    txts=[]\n",
    "    for p in document.paragraphs:\n",
    "        txts.append(p.text)\n",
    "\n",
    "    all = \"\\n\".join(txts)\n",
    "    return all\n",
    "#-----------------------------------------------------------------------------------------    \n",
    "@webapi(\"/gpt/extractText/\")\n",
    "def extractText(request=None, file=None, **kwargs):\n",
    "    ret = f\"Unknown file type {file}\"\n",
    "\n",
    "    if ( request and not file):\n",
    "        for f in request.FILES.getlist('file'):\n",
    "            content = f.read()\n",
    "            #fileIO = io.BytesIO(content)\n",
    "            file = f\"/tmp/{str(f)}\"\n",
    "            with open(file, \"wb\") as f:\n",
    "                f.write(content)\n",
    "\n",
    "    print(f\"Reading file {file}\")\n",
    "\n",
    "    if (file.endswith(\".doc\") or file.endswith(\".docx\") ):\n",
    "        ret =  extractDocx(file)\n",
    "    elif (file.endswith(\".txt\") or file.endswith(\".md\") ):\n",
    "        with open(file, \"r\", encoding=\"utf-8\", errors='ignore') as f:\n",
    "            ret = f.read()\n",
    "    elif (file.endswith(\".pdf\") ):\n",
    "        ret = extractTextPDF(file)\n",
    "    elif (file.endswith(\".xlsx\") or file.endswith(\".xls\")):\n",
    "        df = pd.read_excel(file)\n",
    "        ret = df.to_html()\n",
    "    elif file.endswith(\".csv\") :\n",
    "        df = pd.read_csv(file)\n",
    "        ret = df.to_html()\n",
    "    elif file:\n",
    "        ret = open(file, \"tr\").read()\n",
    "    else:\n",
    "        ret = \"\"\n",
    "    \n",
    "    return ret\n",
    "\n",
    "# ---------------------------------------------------------------------------------------\n",
    "def getChunks(file, chunk_size=2000, overlap=256 ):\n",
    "    from langchain_text_splitters import RecursiveCharacterTextSplitter\n",
    "    from langchain_core.documents import Document\n",
    "    \n",
    "    txt= extractText( file= file)\n",
    "\n",
    "    split = RecursiveCharacterTextSplitter(\n",
    "        chunk_size= chunk_size,\n",
    "        chunk_overlap=overlap,\n",
    "        length_function=len,\n",
    "        add_start_index=True,\n",
    "    )\n",
    "    docs = []\n",
    "    for txt in split.split_text(txt):\n",
    "        d = Document(page_content= txt,  metadata=dict(source= file))\n",
    "        docs.append(d)\n",
    "\n",
    "    return docs\n"
   ]
  },
  {
   "cell_type": "markdown",
   "metadata": {},
   "source": [
    "# Test"
   ]
  },
  {
   "cell_type": "code",
   "execution_count": 37,
   "metadata": {},
   "outputs": [
    {
     "name": "stdout",
     "output_type": "stream",
     "text": [
      "Reading file /Users/e346104/Desktop/data/LLM/sample.pdf\n",
      "file: /Users/e346104/Desktop/data/LLM/sample.pdf\n",
      "Length of the document 3995\n",
      "* Content: *\n",
      "\n",
      " This is a test document \n",
      " \n",
      "Heading 1 \n",
      "This User’s Manual provides essential data on the Ariane 5 launch System, which together with \n",
      "the Soyuz and Vega launch vehicles, constitutes the European space transportation union. \n",
      "These three launch systems are op\n"
     ]
    }
   ],
   "source": [
    "file=\"/Users/e346104/Desktop/data/LLM/sample.pdf\"\n",
    "#file=\"/Users/e346104/Desktop/data/LLM/sample.docx\"\n",
    "#file=\"/Users/e346104/Desktop/data/LLM/sample.txt\"\n",
    "\n",
    "txts = extractText(file=file)\n",
    "print(f\"file: {file}\\nLength of the document {len(txts)}\\n* Content: *\\n\\n {txts[0:256]}\")"
   ]
  }
 ],
 "metadata": {
  "kernelspec": {
   "display_name": "py312",
   "language": "python",
   "name": "python3"
  },
  "language_info": {
   "codemirror_mode": {
    "name": "ipython",
    "version": 3
   },
   "file_extension": ".py",
   "mimetype": "text/x-python",
   "name": "python",
   "nbconvert_exporter": "python",
   "pygments_lexer": "ipython3",
   "version": "3.12.7"
  }
 },
 "nbformat": 4,
 "nbformat_minor": 2
}
