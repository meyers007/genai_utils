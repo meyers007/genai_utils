{
 "cells": [
  {
   "cell_type": "code",
   "execution_count": null,
   "id": "3f3af86a",
   "metadata": {},
   "outputs": [],
   "source": [
    "%%writefile \"genai_utils/index_images_es.py\"\n",
    "#!/usr/bin/env python \n"
   ]
  }
 ],
 "metadata": {
  "language_info": {
   "name": "python"
  }
 },
 "nbformat": 4,
 "nbformat_minor": 5
}
