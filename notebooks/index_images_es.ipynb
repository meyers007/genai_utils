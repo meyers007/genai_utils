{
 "cells": [
  {
   "cell_type": "code",
   "execution_count": null,
   "id": "3f3af86a",
   "metadata": {},
   "outputs": [],
   "source": [
    "#%%writefile \"genai_utils/index_images_es.py\"\n",
    "#!/usr/bin/env python \n",
    "\n",
    "import pdfplumber, os, base64, glob, tqdm\n",
    "from io import BytesIO\n",
    "import io, base64\n",
    "from PIL import Image\n",
    "from IPython.display import HTML\n",
    "from genai_utils.describe_image import describe_image\n",
    "\n",
    "def _extractImagesFromPDF(file=None, **kwargs):\n",
    "    assert file.endswith(\"pdf\"), \"Called with non PDF File!!\"\n",
    "\n",
    "    ret = {}\n",
    "    txt = []\n",
    "    with pdfplumber.open(file) as doc:\n",
    "        for pageNumber, page in enumerate(doc.pages):\n",
    "            images = page.images\n",
    "            txt.append(page.extract_text())\n",
    "            for image_index, img in enumerate(images):\n",
    "                bbox = (img['x0'], img['top'], img['x1'], img['bottom'])\n",
    "                image = page.within_bbox(bbox).to_image()\n",
    "                pil_image = image.original\n",
    "                imageRGB = pil_image.convert(\"RGB\")\n",
    "                b = BytesIO()\n",
    "                imageRGB.save(b, format='PNG')\n",
    "                b.seek(0)\n",
    "                br= b.read()\n",
    "                b64Image = base64.b64encode(br).decode(\"utf-8\")\n",
    "                url = \"data:image/jpg;base64, \" + b64Image\n",
    "                #img = f\"<img src='{url}' >\"\n",
    "                #display (HTML(img))\n",
    "                ret[url] = 1\n",
    "    ret = [r for r in ret.keys()]\n",
    "    return dict(images=ret, texts=txt)\n",
    "\n",
    "def indexImagesFromPDF(file, savedir=\"/tmp/genai_utils/\", verbose =0):\n",
    "    ret = _extractImagesFromPDF(file)\n",
    "        \n",
    "    if ( savedir is None or not savedir):\n",
    "        return ret, None\n",
    "    files = []\n",
    "    for i, img in enumerate(ret['images']):\n",
    "        img1=img[img.index(\",\")+1:].strip()\n",
    "        imgd = Image.open(io.BytesIO(base64.decodebytes(img1.encode()) ))\n",
    "        \n",
    "        bname = os.path.basename(file)\n",
    "        sfile = f\"{savedir}/{bname}__{i}.png\"\n",
    "        #os.makedirs(savedir, exist_ok=True)\n",
    "        imgd.save(sfile)\n",
    "        files.append(sfile)\n",
    "        print(f\"Saved {sfile}\")\n",
    "        if ( verbose):\n",
    "            display(HTML(f\"<img src='{img}'> \"))\n",
    "            print(ret['texts'][i][0:128])\n",
    "    return ret, files\n",
    "    \n",
    "def index_directory(directory, outf= {}, recurse=0):\n",
    "    pngs = glob.glob(os.path.join(directory, '**/*.png') , recursive=recurse)\n",
    "    jpgs = glob.glob(os.path.join(directory, '**/*.jpg') , recursive=recurse)\n",
    "    jpes = glob.glob(os.path.join(directory, '**/*.jpeg'), recursive=recurse)\n",
    "    pdfs = glob.glob(os.path.join(directory, '**/*.pdf') , recursive=recurse)\n",
    "\n",
    "    images= []\n",
    "    for pdfFile in tqdm.tqdm(pdfs):\n",
    "        print(f\"Getting images from {pdfFile}\")\n",
    "        ret, files = indexImagesFromPDF(pdfFile)\n",
    "        images.extend(files)\n",
    "    \n",
    "    image_paths = [*pngs, *jpgs, *jpes, *images]\n",
    "    for image_path in tqdm.tqdm(image_paths):\n",
    "        if image_path in outf:\n",
    "            continue\n",
    "        with open(image_path, 'rb') as f:\n",
    "            image_data = f.read()\n",
    "        try:\n",
    "            description = \"\"\n",
    "            description = describe_image(image_data)\n",
    "            print(f\"Indexed {image_path}: {description}\")\n",
    "            outf[image_path] = description\n",
    "        except Exception as e:\n",
    "            print(f\"Failed to index {image_path}: {e}\")\n",
    "            pass\n",
    "        \n",
    "    return outf\n",
    "outf={}"
   ]
  },
  {
   "cell_type": "code",
   "execution_count": null,
   "id": "3053df94",
   "metadata": {},
   "outputs": [],
   "source": [
    "from genai_utils import db_elastic\n",
    "\n",
    "m, url, user,pw = \"all-minilm:L6-v2\", \"http://localhost:9200\", \"elastic\", \"elastic\"\n",
    "db_elastic.loadES( model=m, index=\"sageai_images\", es_url=url , es_user=user, es_pass=pw, docs=docs )\n",
    "    "
   ]
  },
  {
   "cell_type": "code",
   "execution_count": null,
   "id": "2e78bfef",
   "metadata": {},
   "outputs": [],
   "source": []
  },
  {
   "cell_type": "code",
   "execution_count": null,
   "id": "a7198afc",
   "metadata": {},
   "outputs": [],
   "source": [
    "from langchain_core.documents import Document\n",
    "\n",
    "docs = []\n",
    "for k,v in outf.items():\n",
    "    print(k, v[0:32])\n",
    "    d = Document(page_content=v, metadata=dict(source=k) )\n",
    "    docs.append(d)\n",
    "docs"
   ]
  },
  {
   "cell_type": "code",
   "execution_count": null,
   "id": "2573b66f",
   "metadata": {},
   "outputs": [],
   "source": [
    "outf = index_directory(\"/tmp/**\", outf=outf, recurse=1)\n"
   ]
  },
  {
   "cell_type": "markdown",
   "id": "826bae49",
   "metadata": {},
   "source": [
    "# Test"
   ]
  },
  {
   "cell_type": "code",
   "execution_count": null,
   "id": "95167aa0",
   "metadata": {},
   "outputs": [],
   "source": [
    "file= os.path.expanduser(\"~/Desktop/data/z4.pdf\")\n",
    "ret = indexImagesFromPDF(file)"
   ]
  },
  {
   "cell_type": "code",
   "execution_count": null,
   "id": "5e908cc2",
   "metadata": {},
   "outputs": [],
   "source": []
  }
 ],
 "metadata": {
  "kernelspec": {
   "display_name": "py312",
   "language": "python",
   "name": "python3"
  },
  "language_info": {
   "codemirror_mode": {
    "name": "ipython",
    "version": 3
   },
   "file_extension": ".py",
   "mimetype": "text/x-python",
   "name": "python",
   "nbconvert_exporter": "python",
   "pygments_lexer": "ipython3",
   "version": "3.12.7"
  }
 },
 "nbformat": 4,
 "nbformat_minor": 5
}
