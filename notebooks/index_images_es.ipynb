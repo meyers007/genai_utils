{
 "cells": [
  {
   "cell_type": "code",
   "execution_count": null,
   "id": "3f3af86a",
   "metadata": {},
   "outputs": [],
   "source": [
    "%%writefile \"genai_utils/index_images_es.py\"\n",
    "#!/usr/bin/env python \n",
    "\n",
    "def _extractImagesFromPDF(file=None, **kwargs):\n",
    "    assert file.endswith(\"pdf\"), \"Called with non PDF File!!\"\n",
    "\n",
    "    ret = {}\n",
    "    with pdfplumber.open(file) as doc:\n",
    "        for pageNumber, page in enumerate(doc.pages):\n",
    "            images = page.images\n",
    "            for image_index, img in enumerate(images):\n",
    "                bbox = (img['x0'], img['top'], img['x1'], img['bottom'])\n",
    "                image = page.within_bbox(bbox).to_image()\n",
    "                pil_image = image.original\n",
    "                imageRGB = pil_image.convert(\"RGB\")\n",
    "                b = BytesIO()\n",
    "                imageRGB.save(b, format='PNG')\n",
    "                b.seek(0)\n",
    "                br= b.read()\n",
    "                b64Image = base64.b64encode(br).decode(\"utf-8\")\n",
    "                url = \"data:image/jpg;base64, \" + b64Image\n",
    "                #img = f\"<img src='{url}' >\"\n",
    "                #display (HTML(img))\n",
    "                ret[url] = 1\n",
    "    ret = [r for r in ret.keys()]\n",
    "    return ret"
   ]
  }
 ],
 "metadata": {
  "language_info": {
   "name": "python"
  }
 },
 "nbformat": 4,
 "nbformat_minor": 5
}
