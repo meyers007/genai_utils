{
 "cells": [
  {
   "cell_type": "code",
   "execution_count": null,
   "metadata": {},
   "outputs": [],
   "source": [
    "%reload_ext autoreload\n",
    "%autoreload 2"
   ]
  },
  {
   "cell_type": "code",
   "execution_count": 17,
   "metadata": {},
   "outputs": [
    {
     "name": "stdout",
     "output_type": "stream",
     "text": [
      "Overwriting genai_utils/pdf_parser.py\n"
     ]
    }
   ],
   "source": [
    "%%writefile genai_utils/pdf_parser.py\n",
    "\n",
    "import re, pdfplumber, os\n",
    "from collections import Counter\n",
    "from functools import partial\n",
    "from pathlib import Path\n",
    "\n",
    "from pdfplumber.page import Page\n",
    "from pdfplumber.pdf import PDF\n",
    "from pdfplumber.table import Table\n",
    "from pdfplumber.utils import intersects_bbox\n",
    "\n",
    "\n",
    "NUM_TO_DOC: dict = {0: \"Document Name\", 1: \"Chapter\", 2: \"Section\", 3: \"SubSection\", 4: \"SubSubSection\"}\n",
    "WHITESPACE_HEADER: dict = {72: \"Paragraph\", 101: \"Chapter\", 105: \"Section\", 116: \"SubSection\", 126: \"SubSubSection\"}\n",
    "DOC_TO_NUM: dict = {\"Document Name\": 0, \"Chapter\": 1, \"Section\": 2, \"SubSection\": 3, \"SubSubSection\": 4}\n",
    "TABLE_SETTINGS: dict = {\"vertical_strategy\": \"lines\", \"horizontal_strategy\": \"lines\", \"snap_tolerance\": 2}\n",
    "PARAGRAPH_KEY = min(WHITESPACE_HEADER.keys())\n",
    "\n",
    "\n",
    "def parsePDF(file: str) -> list[dict]:\n",
    "    pdf_file = Path(file)\n",
    "    if not pdf_file.exists():\n",
    "        raise FileExistsError(\"File does not exist\")\n",
    "\n",
    "    records = []\n",
    "\n",
    "    with pdfplumber.open(pdf_file) as doc:\n",
    "        for page in doc.pages:\n",
    "            tables = page.find_tables(table_settings=TABLE_SETTINGS)\n",
    "            nontable_page = page.filter(partial(outside_tables, tables=tables))\n",
    "            char_stat_dict = character_statistics(nontable_page)\n",
    "            filtered = filter_page_by_chars(nontable_page, char_stat_dict)\n",
    "            records.extend(text_line_tagger(filtered))\n",
    "\n",
    "    return sorted(records, key=lambda x: x[\"doctop\"])\n",
    "\n",
    "\n",
    "#    Character characteristics  like font name and font size.\n",
    "def character_statistics(document: Page) -> dict:\n",
    "    bold_counter = Counter()\n",
    "    char_counter = Counter()\n",
    "    size_counter = Counter()\n",
    "    italic_counter = Counter()\n",
    "\n",
    "    for char in document.chars:\n",
    "        if \"Bold\" in char[\"fontname\"]:\n",
    "            bold_counter[char[\"fontname\"]] += 1\n",
    "\n",
    "        elif \"Italic\" in char[\"fontname\"]:\n",
    "\n",
    "            italic_counter[char[\"fontname\"]] += 1\n",
    "        else:\n",
    "            char_counter[char[\"fontname\"]] += 1\n",
    "\n",
    "        size_counter[round(char[\"size\"])] += 1\n",
    "\n",
    "    counter_list = [bold_counter, char_counter, size_counter, italic_counter]\n",
    "    final_dict = {}\n",
    "    for counter in counter_list:\n",
    "        if counter:\n",
    "            k, v = counter.most_common()[0]\n",
    "            final_dict[k] = v\n",
    "\n",
    "    return final_dict\n",
    "\n",
    "\n",
    "# PDF: returns a filtered page that does not contain table data.\n",
    "def outside_tables(obj: PDF, tables: list[Table]) -> PDF:\n",
    "    return not any(intersects_bbox([obj], t.bbox) for t in tables)\n",
    "\n",
    "\n",
    "def filter_page_by_chars(page: Page, char_stat_dict: dict) -> Page:\n",
    "    return page.filter(\n",
    "        lambda x: x[\"object_type\"] == \"char\" and x[\"fontname\"] in \n",
    "                    char_stat_dict and round(x[\"size\"]) in char_stat_dict,\n",
    "    )\n",
    "\n",
    "\n",
    "# Tag each line in the page appropriately\n",
    "# list[dict]: records  for each text line.\n",
    "def text_line_tagger(page: Page) -> list[dict]:\n",
    "    page_lines = page.extract_text_lines()\n",
    "    records = []\n",
    "\n",
    "    horizontal_white_space = Counter(round(x[\"x0\"]) for x in page_lines)\n",
    "\n",
    "    for text in page_lines:\n",
    "\n",
    "        if horizontal_white_space[round(text[\"x0\"])] == 1:\n",
    "            continue\n",
    "\n",
    "        header = \"Paragraph\"\n",
    "\n",
    "        if check_header(text):\n",
    "            header = header_type(text)\n",
    "\n",
    "        records.append(\n",
    "            {\n",
    "                \"header_type\": header,\n",
    "                \"text\": text[\"text\"],\n",
    "                \"doctop\": text[\"chars\"][0][\"doctop\"],\n",
    "                \"page_number\": text[\"chars\"][0][\"page_number\"],\n",
    "            },\n",
    "        )\n",
    "\n",
    "    return records\n",
    "\n",
    "\n",
    "#  Check for bold letters. => bool: return True for all bold letters.\n",
    "def check_header(text: dict) -> bool:\n",
    "    return all(\"Bold\" in char[\"fontname\"] for char in text[\"chars\"])\n",
    "\n",
    "\n",
    "\"\"\"\n",
    "Assigns new header type if the text has :\n",
    "1) leading number\n",
    "2) white space position\n",
    "3) has table or figure within its text.\n",
    "\n",
    "These 2 criteria are mutually exclusive and are used for different cases.\n",
    "\n",
    "Args:\n",
    "    text (dict): text line dictionary\n",
    "    horizontal_white_space (Counter): white space dictionary\n",
    "\n",
    "Returns:\n",
    "    str:  new header string\n",
    "\"\"\"\n",
    "def header_type(text: dict) -> str:\n",
    "\n",
    "    non_headers = [\"Table\", \"Figure\"]\n",
    "\n",
    "    if any(text[\"text\"].startswith(non) for non in non_headers):\n",
    "        return \"Paragraph\"\n",
    "\n",
    "    if round(text[\"x0\"]) == PARAGRAPH_KEY:\n",
    "\n",
    "        return number_to_header(text[\"text\"])\n",
    "\n",
    "    return whitespace_to_header(text[\"x0\"])\n",
    "\n",
    "\n",
    "def number_to_header(text: str) -> str:\n",
    "    \"\"\"\n",
    "    Assigns header type to number.\n",
    "\n",
    "    Args:\n",
    "        text (str): header and value\n",
    "\n",
    "    Returns:\n",
    "        str: header type in the form of string\n",
    "    \"\"\"\n",
    "    nums = text.split()[0]\n",
    "    total = len(re.findall(r\"[0-9]+\", nums))\n",
    "    if total == 0:\n",
    "        return \"Paragraph\"\n",
    "    return NUM_TO_DOC.get(total, \"SubSubSection\")\n",
    "\n",
    "\n",
    "def whitespace_to_header(x0_position: int) -> str:\n",
    "    \"\"\"\n",
    "    Handle edge case where the tool cannot extract leading numbers.\n",
    "    Assigns header type based on whitespace position.\n",
    "\n",
    "    Args:\n",
    "        x0_position (int): _description_\n",
    "\n",
    "    Returns:\n",
    "        str: _description_\n",
    "    \"\"\"\n",
    "    min_val = float(\"inf\")\n",
    "    header = None\n",
    "\n",
    "    for k, v in WHITESPACE_HEADER.items():\n",
    "        x0_diff = abs(k - x0_position)\n",
    "        if x0_diff < min_val:\n",
    "            min_val = x0_diff\n",
    "            header = v\n",
    "\n",
    "    return header\n",
    "\n",
    "# ---------------------------------------------------------------------------------------\n",
    "def getDocsFromPDF(filename):\n",
    "    from genai_utils.dataframe_tools import merge_records,metadata_chunks,chunk_dict_to_list, chunks_to_doc_obj\n",
    "    from genai_utils import pdf_parser\n",
    "\n",
    "    filename = os.path.expanduser(filename)\n",
    "    \n",
    "    record = pdf_parser.parsePDF(filename)\n",
    "    # Seems like there is not data excepts figures and tables in the pdf\n",
    "    if ( not record ):\n",
    "        print(\"Hmmmm not records found in PDF file!\")\n",
    "        return [] \n",
    "\n",
    "    merged = merge_records(record)\n",
    "\n",
    "    docName = os.path.basename(filename)\n",
    "    chunk_dict = metadata_chunks(merged,docName)\n",
    "    chunks = chunk_dict_to_list(chunk_dict)\n",
    "    docs = chunks_to_doc_obj(chunks, docName )\n",
    "    return docs\n"
   ]
  },
  {
   "cell_type": "markdown",
   "metadata": {},
   "source": [
    "# Test"
   ]
  },
  {
   "cell_type": "code",
   "execution_count": 13,
   "metadata": {},
   "outputs": [
    {
     "name": "stdout",
     "output_type": "stream",
     "text": [
      "\n"
     ]
    }
   ],
   "source": [
    "%%script echo\n",
    "import os\n",
    "#from genai_utils.pdf_parser_tools import pdf_parser\n",
    "#from genai_utils.dataframe_tools import merge_records,metadata_chunks,chunk_dict_to_list\n",
    "\n",
    "from typing import Optional\n",
    "\n",
    "SAMPLE_PDF = os.path.expanduser(\"~/Desktop/data/LLM/sample.pdf\")\n",
    "record = pdf_parser(SAMPLE_PDF)\n",
    "merged = merge_records(record)\n",
    "chunk_dict = metadata_chunks(merged, SAMPLE_PDF)\n",
    "chunks = chunk_dict_to_list(chunk_dict)\n",
    "chunks"
   ]
  },
  {
   "cell_type": "code",
   "execution_count": null,
   "metadata": {},
   "outputs": [],
   "source": [
    "import os\n",
    "from genai_utils import pdf_parser\n",
    "file = os.path.expanduser(\"~/Desktop/data/LLM/sample1.pdf\")\n",
    "docs = pdf_parser.getDocsFromPDF(file)\n",
    "d=docs"
   ]
  },
  {
   "cell_type": "code",
   "execution_count": null,
   "metadata": {},
   "outputs": [
    {
     "data": {
      "text/html": [
       "\n",
       "    sample1.pdf : Page, 1\n",
       "\n",
       "    Document Name: sample1.pdf<br>Chapter: 2. OVERVIEW AND CONVENTIONS<br>Section: 2.1 SATELLITE OVERVIEW<br><br>The HS4/SGS-1 LM2100 Satellite is designed to provide fixed satellite service (FSS) coverage, broadcast satellite service (BSS), and high throughput service (HTS) to the Middle East, Europe, and South Africa.\n",
       "    <hr/>\n",
       "    "
      ],
      "text/plain": [
       "<IPython.core.display.HTML object>"
      ]
     },
     "metadata": {},
     "output_type": "display_data"
    },
    {
     "data": {
      "text/html": [
       "\n",
       "    sample1.pdf : Page, 1\n",
       "\n",
       "    Document Name: sample1.pdf<br>Chapter: 2. OVERVIEW AND CONVENTIONS<br>Section: 2.1 SATELLITE OVERVIEW<br><br>There are two payload designs; a Ku-band payload and a Ka-band payload. The Ku-band payload has four uplink and downlink antenna beams: Europe-1 FSS, Europe-2 BSS, Middle East FSS, and South Africa FSS. The Ku-band payload is an active repeater subsystem with an FSS uplink frequency band of 13.00 GHz to 14.50 GHz, BSS uplink frequency band of 17.3 – 17.9 GHz, and FSS downlink frequency bands of 10.7 GHz to 12.8 GHz, and BSS downlink of 11.7 GHz to 12.4 GHz.\n",
       "    <hr/>\n",
       "    "
      ],
      "text/plain": [
       "<IPython.core.display.HTML object>"
      ]
     },
     "metadata": {},
     "output_type": "display_data"
    },
    {
     "data": {
      "text/html": [
       "\n",
       "    sample1.pdf : Page, 1\n",
       "\n",
       "    Document Name: sample1.pdf<br>Chapter: 2. OVERVIEW AND CONVENTIONS<br>Section: 2.1 SATELLITE OVERVIEW<br><br>The Ka-band payload has 66 high throughput spot beams, including 2 steerable beams with global coverage, that uplink/downlink from/to 5 different Gateway locations. The Ka-band payload is divided into a Forward (FWD) and Return (RTN) payload. The Forward payload uplinks from the Gateways and downlinks to the Users, and the Return payload uplinks from the Users and downlinks to the Gateways. The Ka-band RTN payload operates over the uplink frequency range of 29.5 to 30.3 GHz and a downlink frequency range of 18.2 to 20.5 GHz. The FWD payload operates over the uplink frequency range of 27.5 to 31.0 GHz and a downlink frequency range of 19.7 to 21.2 GHz.\n",
       "    <hr/>\n",
       "    "
      ],
      "text/plain": [
       "<IPython.core.display.HTML object>"
      ]
     },
     "metadata": {},
     "output_type": "display_data"
    },
    {
     "data": {
      "text/html": [
       "\n",
       "    sample1.pdf : Page, 1\n",
       "\n",
       "    Document Name: sample1.pdf<br>Chapter: 2. OVERVIEW AND CONVENTIONS<br>Section: 2.1 SATELLITE OVERVIEW<br><br>On-orbit the spacecraft features 2 deployable solar arrays (North and South), four 100 inch deployable reflectors for Ku-band operations; one Ku-band Europe-1 FSS receive/transmit antenna deployed from the northwest side of the spacecraft; one Ku-band Europe-2 BSS receive/transmit antenna deployed from the southwest side of the spacecraft; one Ku-band Middle East FSS receive/transmit antenna deployed from the northeast side of the spacecraft and one Ku-band South Africa FSS receive/transmit antenna deployed from the southeast side of the spacecraft, a fixed deck antenna system for the Ka-band payload featuring four 1.04 meter multibeam reflectors and two 0.\n",
       "    <hr/>\n",
       "    "
      ],
      "text/plain": [
       "<IPython.core.display.HTML object>"
      ]
     },
     "metadata": {},
     "output_type": "display_data"
    },
    {
     "data": {
      "text/html": [
       "\n",
       "    sample1.pdf : Page, 1\n",
       "\n",
       "    Document Name: sample1.pdf<br>Chapter: 2. OVERVIEW AND CONVENTIONS<br>Section: 2.1 SATELLITE OVERVIEW<br><br>The A2100 bus is a 3-axis stabilized platform both for transfer orbit and on-orbit operations. The lightweight structure is configured as a box-shaped structural core supporting the payload module.\n",
       "    <hr/>\n",
       "    "
      ],
      "text/plain": [
       "<IPython.core.display.HTML object>"
      ]
     },
     "metadata": {},
     "output_type": "display_data"
    },
    {
     "data": {
      "text/html": [
       "\n",
       "    sample1.pdf : Page, 4\n",
       "\n",
       "    Document Name: sample1.pdf<br>Chapter: 2. OVERVIEW AND CONVENTIONS<br>Section: 2.2 COMMUNICATIONS SUBSYSTEM OVERVIEW<br>SubSection: 2.2.1 Ku-Band Payload<br><br>The E1 FSS beam consists of H-Pol and V-Pol uplink and downlink channels. There are twenty- four 36-MHz uplink channels, and eighteen (Maximum due to beam switching) 36-MHz downlink channels. The E1 FSS uplink and downlink beams contain channels that are capable of being independently selected by ground command. The E1 FSS V-Pol uplink channels E1B to E11B, and E14 to E24 are fixed (non-configurable). The E1 FSS H-Pol uplink channels E2B to E12B and E2A and E12A are individually selectable (must be configured on both uplink and downlink sides).\n",
       "    <hr/>\n",
       "    "
      ],
      "text/plain": [
       "<IPython.core.display.HTML object>"
      ]
     },
     "metadata": {},
     "output_type": "display_data"
    },
    {
     "data": {
      "text/html": [
       "\n",
       "    sample1.pdf : Page, 4\n",
       "\n",
       "    Document Name: sample1.pdf<br>Chapter: 2. OVERVIEW AND CONVENTIONS<br>Section: 2.2 COMMUNICATIONS SUBSYSTEM OVERVIEW<br>SubSection: 2.2.1 Ku-Band Payload<br><br>The E2 BSS beam consists of H-Pol and V-Pol uplink and downlink channels. There are fourteen 34-MHz uplink channels, and ten (Maximum due to beam switching) 36-MHz downlink channels. The E2 BSS beam uplinks signals from 17.3 GHz to 17.8 GHz, and downlinks signals from 11.7 GHz to 12.1 GHz. The E2 BSS uplink and downlink beams contain channels that are capable of being independently selected by ground command. The E2 BSS H-Pol uplink channels 2 to 12 are switchable with the even or odd Middle East channels, with the ME channels being downlinked through a separate antenna.\n",
       "    <hr/>\n",
       "    "
      ],
      "text/plain": [
       "<IPython.core.display.HTML object>"
      ]
     },
     "metadata": {},
     "output_type": "display_data"
    },
    {
     "data": {
      "text/html": [
       "\n",
       "    sample1.pdf : Page, 4\n",
       "\n",
       "    Document Name: sample1.pdf<br>Chapter: 2. OVERVIEW AND CONVENTIONS<br>Section: 2.2 COMMUNICATIONS SUBSYSTEM OVERVIEW<br>SubSection: 2.2.1 Ku-Band Payload<br><br>The ME FSS beam consists of H-Pol and V-Pol uplink and downlink channels. There are twelve 36-MHz uplink channels, and six 36-MHz downlink channels. The ME FSS beam uplinks signals from 14.2 GHz to 14.5 GHz, and downlinks signals from 11.4 GHz to 11.7 GHz. The ME FSS uplink and downlink beams contain channels that are capable of being independently selected by ground command. The E2 BSS H-Pol uplink channels 2 to 12 are switchable with the even or odd Middle East channels. The middle east channels can be switched to select uplink and downlink polarization and can only be switched in a block.\n",
       "    <hr/>\n",
       "    "
      ],
      "text/plain": [
       "<IPython.core.display.HTML object>"
      ]
     },
     "metadata": {},
     "output_type": "display_data"
    },
    {
     "data": {
      "text/html": [
       "\n",
       "    sample1.pdf : Page, 4\n",
       "\n",
       "    Document Name: sample1.pdf<br>Chapter: 2. OVERVIEW AND CONVENTIONS<br>Section: 2.2 COMMUNICATIONS SUBSYSTEM OVERVIEW<br>SubSection: 2.2.1 Ku-Band Payload<br><br>The SA FSS beam consists of H-Pol and V-Pol uplink and downlink channels. There are ten 36- MHz uplink channels, and ten 36-MHz downlink channels. The SA FSS beam uplinks signals from 13.7 GHz to 14.2 GHz, and downlinks signals from 10.9 GHz to 12.7 GHz. The SA FSS uplink and downlink beams contain channels that are capable of being independently selected by ground command. The SA FSS channels S14 to S20 are switchable with either E2 BSS channels 1 to 7, or channels 21-27. The E2 BSS V-Pol uplink channels 1 to 7 and 21 and 27 are switchable (must be configured on both uplink and downlink sides) with SA channels S14 through S20.\n",
       "    <hr/>\n",
       "    "
      ],
      "text/plain": [
       "<IPython.core.display.HTML object>"
      ]
     },
     "metadata": {},
     "output_type": "display_data"
    },
    {
     "data": {
      "text/html": [
       "\n",
       "    sample1.pdf : Page, 4\n",
       "\n",
       "    Document Name: sample1.pdf<br>Chapter: 2. OVERVIEW AND CONVENTIONS<br>Section: 2.2 COMMUNICATIONS SUBSYSTEM OVERVIEW<br>SubSection: 2.2.1 Ku-Band Payload<br><br>The receive signals from the uplink beams are routed through WR75 waveguide to the appropriate dual directional test coupler which permits insertion of test signals to the antenna and transponder during ground testing. After the test couplers, the signals are routed to Input Filter Assemblies (IFAs) which pass the receive band and reject out-of-band signals, especially at the Ku-Band downlink frequencies. The signals from the IFAs are then routed to the receiver networks (14/12 GHz receivers, or low-noise amplifiers and downconverters, depending on the\n",
       "    <hr/>\n",
       "    "
      ],
      "text/plain": [
       "<IPython.core.display.HTML object>"
      ]
     },
     "metadata": {},
     "output_type": "display_data"
    },
    {
     "data": {
      "text/html": [
       "\n",
       "    sample1.pdf : Page, 5\n",
       "\n",
       "    Document Name: sample1.pdf<br>Chapter: 2. OVERVIEW AND CONVENTIONS<br>Section: 2.2 COMMUNICATIONS SUBSYSTEM OVERVIEW<br>SubSection: 2.2.1 Ku-Band Payload<br><br>uplink beam). The receiver networks provide amplification and frequency translation of the uplink signals to the appropriate downlink signals. The signals in each transponder channel are then routed to input multiplexers or channel filters through various input beam switching networks. They are then routed to the amplifier chain through an input switch network and then amplified in a power amplifier chain consisting of a linearized channel amplifier (LCAMP) followed by a 150-watt traveling wave tube amplifier (TWTA).\n",
       "    <hr/>\n",
       "    "
      ],
      "text/plain": [
       "<IPython.core.display.HTML object>"
      ]
     },
     "metadata": {},
     "output_type": "display_data"
    },
    {
     "data": {
      "text/html": [
       "\n",
       "    sample1.pdf : Page, 5\n",
       "\n",
       "    Document Name: sample1.pdf<br>Chapter: 2. OVERVIEW AND CONVENTIONS<br>Section: 2.2 COMMUNICATIONS SUBSYSTEM OVERVIEW<br>SubSection: 2.2.2 Ka-Band Payload<br><br>The HS4/SGS-1 Ka-Band Payload consists of 64 spot beams over several countries and two steerable spot beam with global coverage. The payload is broken down into a Forward and Return payload. The Forward payload uplinks from the Gateways and downlinks to the individual spot beams. The Return payload uplinks from the individual spot beams and downlinks to the Gateways. There are four (4) active Gateways and one (1) spare Gateway. Gateway 1 is located in Jeddah and contains beams 6, 7, 16, 17, 18, 19, 26, 27, 28, 29, 36, 37, 38, 45, 46, 47, Spt1, and Spt2.\n",
       "    <hr/>\n",
       "    "
      ],
      "text/plain": [
       "<IPython.core.display.HTML object>"
      ]
     },
     "metadata": {},
     "output_type": "display_data"
    },
    {
     "data": {
      "text/html": [
       "\n",
       "    sample1.pdf : Page, 5\n",
       "\n",
       "    Document Name: sample1.pdf<br>Chapter: 2. OVERVIEW AND CONVENTIONS<br>Section: 2.2 COMMUNICATIONS SUBSYSTEM OVERVIEW<br>SubSection: 2.2.2 Ka-Band Payload<br><br> Gateway 2 is located in Canary Islands and contains beams 5, 8, 9, 14, 15, 24, 25, 34, 35, 39, 44, 48, 54, 55, 56, and 57. Gateway 3 is located in Madrid and contains beams 40, 41, 42, 43, 49, 50, 51, 52, 53, 58, 59, 60, 61, 62, 63, and 64. Gateway 4 is located in Helsinki and contains beams 1, 2, 3, 4, 10, 11, 12, 13, 20, 21, 22, 23, 30, 31, 32, and 33. Gateway 5 is a spare Gateway that is located in Jubail, and can back up any of the four main Gateways. The FWD beams have a bandwidth of 225 MHz for the user spots and 490 MHz for the steerables. The following tables show the frequency plan for the FWD payload.\n",
       "    <hr/>\n",
       "    "
      ],
      "text/plain": [
       "<IPython.core.display.HTML object>"
      ]
     },
     "metadata": {},
     "output_type": "display_data"
    },
    {
     "data": {
      "text/html": [
       "\n",
       "    sample1.pdf : Page, 5\n",
       "\n",
       "    Document Name: sample1.pdf<br>Chapter: 2. OVERVIEW AND CONVENTIONS<br>Section: 2.2 COMMUNICATIONS SUBSYSTEM OVERVIEW<br>SubSection: 2.2.2 Ka-Band Payload<br><br>For the Forward Ka-band payload, the signals from each receive antenna are routed to a receive test coupler and input filter assembly (IFA). The function of the receive test coupler is the injection of receive test signals into the transponder for transponder testing, and reception of test signals during receive antenna pattern measurements. The IFA passes the signal in the required receive passband and rejects signals in the transmit band, along with other out-of-band interference. The IFA consists of a bandpass and a lowpass filter. The signal is then routed to the Low Noise Amplifier (LNA).\n",
       "    <hr/>\n",
       "    "
      ],
      "text/plain": [
       "<IPython.core.display.HTML object>"
      ]
     },
     "metadata": {},
     "output_type": "display_data"
    },
    {
     "data": {
      "text/html": [
       "\n",
       "    sample1.pdf : Page, 5\n",
       "\n",
       "    Document Name: sample1.pdf<br>Chapter: 2. OVERVIEW AND CONVENTIONS<br>Section: 2.2 COMMUNICATIONS SUBSYSTEM OVERVIEW<br>SubSection: 2.2.2 Ka-Band Payload<br><br> The LNA provides amplification of the uplink signals and sets the system Noise Figure. LNAs are implemented in multi-packs for both the FWD and RTN payloads. For the FWD payload, the signal is then routed to the AFSSA, which is a passive IMUX assembly that splits and filters the Gateway uplinks into smaller groups of beams. The AFSSA contains switches that allow the spare Gateway uplink to be routed to any of the other 4 Gateways. This assembly also splits out the 5 RTN spot beams that are co-located with the Gateways.\n",
       "    <hr/>\n",
       "    "
      ],
      "text/plain": [
       "<IPython.core.display.HTML object>"
      ]
     },
     "metadata": {},
     "output_type": "display_data"
    },
    {
     "data": {
      "text/html": [
       "\n",
       "    sample1.pdf : Page, 5\n",
       "\n",
       "    Document Name: sample1.pdf<br>Chapter: 2. OVERVIEW AND CONVENTIONS<br>Section: 2.2 COMMUNICATIONS SUBSYSTEM OVERVIEW<br>SubSection: 2.2.2 Ka-Band Payload<br><br>translation of the signals from the receive frequency band to the transmit frequency band with external Master Local Oscillators (MLOs). From the DNCs the signal travels to one of the two AFCFA assemblies. These assemblies contain IMUXs that split, filter, and combine beams into pairs for the LTWTAs. AFCFA1 also includes the secure communications selection switches, which allow the 12 beams that can be switched to secure comms to do so. From the AFCFAs, the signal travels to the Linear Traveling Wave Tube Amplifiers (LTWTAs).\n",
       "    <hr/>\n",
       "    "
      ],
      "text/plain": [
       "<IPython.core.display.HTML object>"
      ]
     },
     "metadata": {},
     "output_type": "display_data"
    },
    {
     "data": {
      "text/html": [
       "\n",
       "    sample1.pdf : Page, 6\n",
       "\n",
       "    Document Name: sample1.pdf<br>Chapter: 2. OVERVIEW AND CONVENTIONS<br>Section: 2.2 COMMUNICATIONS SUBSYSTEM OVERVIEW<br>SubSection: 2.2.2 Ka-Band Payload<br><br>For the Return Ka-band payload, the signals from each receive antenna are routed to a receive test coupler and input filter assembly (IFA). The function of the receive test coupler is the injection of receive test signals into the transponder for transponder testing, and reception of test signals during receive antenna pattern measurements. The IFA passes the signal in the required receive passband and rejects signals in the transmit band, along with other out-of-band interference. The IFA consists of a bandpass and a lowpass filter. The signal is then routed to the Low Noise Amplifier (LNA).\n",
       "    <hr/>\n",
       "    "
      ],
      "text/plain": [
       "<IPython.core.display.HTML object>"
      ]
     },
     "metadata": {},
     "output_type": "display_data"
    },
    {
     "data": {
      "text/html": [
       "\n",
       "    sample1.pdf : Page, 6\n",
       "\n",
       "    Document Name: sample1.pdf<br>Chapter: 2. OVERVIEW AND CONVENTIONS<br>Section: 2.2 COMMUNICATIONS SUBSYSTEM OVERVIEW<br>SubSection: 2.2.2 Ka-Band Payload<br><br> The LNA provides amplification of the uplink signals and sets the system Noise Figure. LNAs are implemented in multi-packs for both the FWD and RTN payloads. For the RTN payload, the signal is then routed to the ARCFAs, which are passive IMUX assemblies that filter and combine the User uplinks into groups of beams. The 5 user beams that are co-located with the Gateways join the rest of the RTN payload inside the ARCFAs. ARCFA1 also includes the secure communications selection switches, which allow the 12 beams that can be switched to secure comms to do so. After the ARCFAs, the RTN signals are routed to the Downconverters (DNCs).\n",
       "    <hr/>\n",
       "    "
      ],
      "text/plain": [
       "<IPython.core.display.HTML object>"
      ]
     },
     "metadata": {},
     "output_type": "display_data"
    },
    {
     "data": {
      "text/html": [
       "\n",
       "    sample1.pdf : Page, 6\n",
       "\n",
       "    Document Name: sample1.pdf<br>Chapter: 2. OVERVIEW AND CONVENTIONS<br>Section: 2.2 COMMUNICATIONS SUBSYSTEM OVERVIEW<br>SubSection: 2.2.2 Ka-Band Payload<br><br> The DNCs provide amplification of the uplink signals and also provide frequency translation of the signals from the receive frequency band to the transmit frequency band with external Master Local Oscillators (MLOs). From the DNCs the signal travels to the ARFCA assembly. This assembly contains IMUXs that further filter and combine beams into the Gateway groups for the LTWTAs. From the ARFCA, the signal travels to the Linear Traveling Wave Tube Amplifiers (LTWTAs). The LTWTAs provide a large amplification for the downlink signal and allow the ground station to control the downlink beam power.\n",
       "    <hr/>\n",
       "    "
      ],
      "text/plain": [
       "<IPython.core.display.HTML object>"
      ]
     },
     "metadata": {},
     "output_type": "display_data"
    },
    {
     "data": {
      "text/html": [
       "\n",
       "    sample1.pdf : Page, 6\n",
       "\n",
       "    Document Name: sample1.pdf<br>Chapter: 2. OVERVIEW AND CONVENTIONS<br>Section: 2.2 COMMUNICATIONS SUBSYSTEM OVERVIEW<br>SubSection: 2.2.3 TT&C Subsystem Overview<br><br>The TT&C subsystem utilizes Hemi antennas. The command architecture in the TT&C subsystem comprises three command receivers and three telemetry beacons. The uplink frequency is 5928 MHz for command receiver 1, 6422 MHz for command receiver 3, and can be set to either frequency for command receiver 2. The downlink frequencies for CBTX1 & 2 are 4199.0 MHz and 3704.25 MHz for CBTX3. The normal uplink command bit rate is 1024. The subsystem produces two downlink data streams at 4096 bps.\n",
       "    <hr/>\n",
       "    "
      ],
      "text/plain": [
       "<IPython.core.display.HTML object>"
      ]
     },
     "metadata": {},
     "output_type": "display_data"
    },
    {
     "data": {
      "text/html": [
       "\n",
       "    sample1.pdf : Page, 7\n",
       "\n",
       "    Document Name: sample1.pdf<br>Chapter: 2. OVERVIEW AND CONVENTIONS<br>Section: 2.2 COMMUNICATIONS SUBSYSTEM OVERVIEW<br>SubSection: 2.2.4 Transponder Panel Layout<br><br>The equipment layout for the North Panel is shown in Figure 2-3, the South Panel is shown in Figure 2-4 , the North Cruciform layout is shown in Figure 2-5 and the South Cruciform layout is shown in Figure 2-6. Figure 2-2 shows the spacecraft in the stowed configuration. Solar panels are mounted outboard on the north and south panels, the two 2.54 meter nested single surface reflectors are shown stowed on the west side of the spacecraft, and the two 2.54 meter nested single surface reflectors are shown stowed on the east side of the spacecraft.\n",
       "    <hr/>\n",
       "    "
      ],
      "text/plain": [
       "<IPython.core.display.HTML object>"
      ]
     },
     "metadata": {},
     "output_type": "display_data"
    },
    {
     "data": {
      "text/html": [
       "\n",
       "    sample1.pdf : Page, 8\n",
       "\n",
       "    Document Name: sample1.pdf<br>Chapter: 2. OVERVIEW AND CONVENTIONS<br>Section: 2.3 A2100 BUS SUBSYSTEM FEATURES<br><br>The A2100 satellite is based on the A2100 platform adapted to accommodate the A2100 communications payload requirements. The A2100 bus is a 3-axis stabilized platform both for transfer orbit and on-orbit operations. The lightweight structure is configured as a cylindrical- shaped structural core supporting the transponder panels and cruciform.\n",
       "    <hr/>\n",
       "    "
      ],
      "text/plain": [
       "<IPython.core.display.HTML object>"
      ]
     },
     "metadata": {},
     "output_type": "display_data"
    },
    {
     "data": {
      "text/html": [
       "\n",
       "    sample1.pdf : Page, 8\n",
       "\n",
       "    Document Name: sample1.pdf<br>Chapter: 2. OVERVIEW AND CONVENTIONS<br>Section: 2.3 A2100 BUS SUBSYSTEM FEATURES<br><br>The north and south panels have imbedded heat pipes to provide uniform heat rejection via the external mirrored surfaces. The Earth and Mid-deck panels, also with imbedded heat pipes, are used to combine the north and south panels into a combined heat pipe network for efficient thermal management. Additionally, the East and West radiator panels connected to the cruciform panels provide thermal management for the cruciform panels. Equipment panel layouts are shown in Figure 2-3 to Figure 2-6.\n",
       "    <hr/>\n",
       "    "
      ],
      "text/plain": [
       "<IPython.core.display.HTML object>"
      ]
     },
     "metadata": {},
     "output_type": "display_data"
    },
    {
     "data": {
      "text/html": [
       "\n",
       "    sample1.pdf : Page, 8\n",
       "\n",
       "    Document Name: sample1.pdf<br>Chapter: 2. OVERVIEW AND CONVENTIONS<br>Section: 2.3 A2100 BUS SUBSYSTEM FEATURES<br><br>The structural core houses all propulsion equipment and provides the load path through the lower transition adapter to the launch vehicle. The HS4/SGS-1 spacecraft contains two separate propulsion systems. The Chemical Propulsion Subsystem (CPS) utilizes a dual mode system to provide delta V for the beginning of transfer orbit as well as thrust for contingency attitude control and momentum management. The Xenon Propulsion Subsystem (XPS) utilizes electric propulsion to provide delta V for the completion of transfer orbit as well as on-orbit stationkeeping and momentum management.\n",
       "    <hr/>\n",
       "    "
      ],
      "text/plain": [
       "<IPython.core.display.HTML object>"
      ]
     },
     "metadata": {},
     "output_type": "display_data"
    },
    {
     "data": {
      "text/html": [
       "\n",
       "    sample1.pdf : Page, 8\n",
       "\n",
       "    Document Name: sample1.pdf<br>Chapter: 2. OVERVIEW AND CONVENTIONS<br>Section: 2.3 A2100 BUS SUBSYSTEM FEATURES<br><br>The Electrical Power subsystem (EPS) provides the functions of energy generation, energy storage, voltage regulation, and power distribution for the entire spacecraft. The EPS is a 70Vdc regulated, regulated direct energy transfer (R-DET) system that transfers power from the source to the loads during sunlight without intermediate power conversion. Equipment includes two 30 ZTJ solar array panel wings, 280 Ah nameplate batteries, two 112 cell Li+ battery and an scaleable power regulation unit, 3 fuse box assemblies (FBA), and a double insulated harness. Fault tolerant EPS components and a double insulated harness eliminate single point failures within the power subsystem design.\n",
       "    <hr/>\n",
       "    "
      ],
      "text/plain": [
       "<IPython.core.display.HTML object>"
      ]
     },
     "metadata": {},
     "output_type": "display_data"
    },
    {
     "data": {
      "text/html": [
       "\n",
       "    sample1.pdf : Page, 8\n",
       "\n",
       "    Document Name: sample1.pdf<br>Chapter: 2. OVERVIEW AND CONVENTIONS<br>Section: 2.3 A2100 BUS SUBSYSTEM FEATURES<br><br>The SA is designed to operate in geosynchronous orbit for the 15-year mission life. A two- battery system provides the average payload and housekeeping power during the eclipse period. The battery system can tolerate open or shorted cells while providing full load power. Each battery has open cell bypass and battery cell voltage.\n",
       "    <hr/>\n",
       "    "
      ],
      "text/plain": [
       "<IPython.core.display.HTML object>"
      ]
     },
     "metadata": {},
     "output_type": "display_data"
    },
    {
     "data": {
      "text/html": [
       "\n",
       "    sample1.pdf : Page, 13\n",
       "\n",
       "    Document Name: sample1.pdf<br>Chapter: 2. OVERVIEW AND CONVENTIONS<br>Section: 2.3 A2100 BUS SUBSYSTEM FEATURES<br><br>The Guidance, Navigation, & Control (GN&C) subsystem design provides continuous sensing and control about three axes to maintain spacecraft stability and pointing during both the transfer orbit and mission operation. It uses a Stellar Attitude and Rate Measurement Unit (STARMU), a coarse Sun sensor assembly (CSSA), and reaction wheels (four RWAs). The STARMU consists of two Star Tracker Optical Heads (STOHs) and an Electronics Unit (EU) with two sides, each of which includes a set of three Micro Electro Mechanical System (MEMS) Gyros providing attitude rates.\n",
       "    <hr/>\n",
       "    "
      ],
      "text/plain": [
       "<IPython.core.display.HTML object>"
      ]
     },
     "metadata": {},
     "output_type": "display_data"
    },
    {
     "data": {
      "text/html": [
       "\n",
       "    sample1.pdf : Page, 13\n",
       "\n",
       "    Document Name: sample1.pdf<br>Chapter: 2. OVERVIEW AND CONVENTIONS<br>Section: 2.3 A2100 BUS SUBSYSTEM FEATURES<br><br>The GN&C subsystem maintains its inertial attitude reference by propagating three-axis gyro data from the STARMU. During all normal mission phases, the GN&C Subsystem maintains an inertial attitude reference by propagating STARMU STOH and MEMS Gyro data. The subsystem provides two attitude determination (AD) modes; Gyroless AD which may use one or both STOHs to provide inertial attitude and body rate estimates and Gyro-Based AD, also called STARMU Kalman Filter (KF) AD, which may use STOHs and MEMS Gyro data. The Gyroless mode is used in normal operation as well as stationkeeping maneuvers. Should the inertial reference ever be lost, the system will automatically reinitialize.\n",
       "    <hr/>\n",
       "    "
      ],
      "text/plain": [
       "<IPython.core.display.HTML object>"
      ]
     },
     "metadata": {},
     "output_type": "display_data"
    },
    {
     "data": {
      "text/html": [
       "\n",
       "    sample1.pdf : Page, 13\n",
       "\n",
       "    Document Name: sample1.pdf<br>Chapter: 2. OVERVIEW AND CONVENTIONS<br>Section: 2.3 A2100 BUS SUBSYSTEM FEATURES<br><br>In transfer orbit the GN&C subsystem via the separation macro commands the Sun Pointing Mode to acquire a sun-safe attitude in preparation for solar array deployment. The system can orient the yaw axis to any commanded inertial attitude for liquid apogee engine (LAE) burns and in the event of a component failure or loss of attitude reference, the system can acquire the sun and maintain a sun-safe orientation.\n",
       "    <hr/>\n",
       "    "
      ],
      "text/plain": [
       "<IPython.core.display.HTML object>"
      ]
     },
     "metadata": {},
     "output_type": "display_data"
    },
    {
     "data": {
      "text/html": [
       "\n",
       "    sample1.pdf : Page, 13\n",
       "\n",
       "    Document Name: sample1.pdf<br>Chapter: 2. OVERVIEW AND CONVENTIONS<br>Section: 2.3 A2100 BUS SUBSYSTEM FEATURES<br><br>In operation orbit, RWAs are used for normal control actuation with thrusters used to provide control during stationkeeping maneuvers and to control momentum. Stationkeeping the system provides the capability for both short-term roll and pitch offsets of at least ±14° for payload calibration and also long-term Earth target pointing for orbits inclined up to 3°.\n",
       "    <hr/>\n",
       "    "
      ],
      "text/plain": [
       "<IPython.core.display.HTML object>"
      ]
     },
     "metadata": {},
     "output_type": "display_data"
    },
    {
     "data": {
      "text/html": [
       "\n",
       "    sample1.pdf : Page, 13\n",
       "\n",
       "    Document Name: sample1.pdf<br>Chapter: 2. OVERVIEW AND CONVENTIONS<br>Section: 2.3 A2100 BUS SUBSYSTEM FEATURES<br><br>The GN&C subsystem includes redundancy management logic that autonomously detects hardware failures affecting subsystem performance. When a failure is detected, this logic executes a macro command list that switches both GN&C and telemetry, tracking, & command (TT&C) hardware as needed to correct the failure. The failure detection tests and hardware switching may be enabled or disabled by ground command, as may all other automatic GN&C functions.\n",
       "    <hr/>\n",
       "    "
      ],
      "text/plain": [
       "<IPython.core.display.HTML object>"
      ]
     },
     "metadata": {},
     "output_type": "display_data"
    },
    {
     "data": {
      "text/html": [
       "\n",
       "    sample1.pdf : Page, 13\n",
       "\n",
       "    Document Name: sample1.pdf<br>Chapter: 2. OVERVIEW AND CONVENTIONS<br>Section: 2.3 A2100 BUS SUBSYSTEM FEATURES<br><br>The A2100 bus uses the MIL-STD-1553B data bus in conjunction with a high capacity, general purpose 32-bit on-board computer (OBC), which allows for significant reductions in system harness complexity and provides highly autonomous operation.\n",
       "    <hr/>\n",
       "    "
      ],
      "text/plain": [
       "<IPython.core.display.HTML object>"
      ]
     },
     "metadata": {},
     "output_type": "display_data"
    },
    {
     "data": {
      "text/html": [
       "\n",
       "    sample1.pdf : Page, 13\n",
       "\n",
       "    Document Name: sample1.pdf<br>Chapter: 2. OVERVIEW AND CONVENTIONS<br>Section: 2.3 A2100 BUS SUBSYSTEM FEATURES<br><br>Figure 2-7 is a block diagram depicting the functional relationships of the following seven spacecraft subsystems.\n",
       "    <hr/>\n",
       "    "
      ],
      "text/plain": [
       "<IPython.core.display.HTML object>"
      ]
     },
     "metadata": {},
     "output_type": "display_data"
    },
    {
     "data": {
      "text/html": [
       "\n",
       "    sample1.pdf : Page, 13\n",
       "\n",
       "    Document Name: sample1.pdf<br>Chapter: 2. OVERVIEW AND CONVENTIONS<br>Section: 2.3 A2100 BUS SUBSYSTEM FEATURES<br><br>1. Communications 2. Telemetry, Tracking & Command (TT&C) 3. Guidance, Navigation & Control (GN&C) 4. Flight Software\n",
       "    <hr/>\n",
       "    "
      ],
      "text/plain": [
       "<IPython.core.display.HTML object>"
      ]
     },
     "metadata": {},
     "output_type": "display_data"
    },
    {
     "data": {
      "text/html": [
       "\n",
       "    sample1.pdf : Page, 14\n",
       "\n",
       "    Document Name: sample1.pdf<br>Chapter: 2. OVERVIEW AND CONVENTIONS<br>Section: 2.3 A2100 BUS SUBSYSTEM FEATURES<br><br>5. Electrical Power 6. Propulsion 7. Thermal Control\n",
       "    <hr/>\n",
       "    "
      ],
      "text/plain": [
       "<IPython.core.display.HTML object>"
      ]
     },
     "metadata": {},
     "output_type": "display_data"
    },
    {
     "data": {
      "text/html": [
       "\n",
       "    sample1.pdf : Page, 14\n",
       "\n",
       "    Document Name: sample1.pdf<br>Chapter: 2. OVERVIEW AND CONVENTIONS<br>Section: 2.3 A2100 BUS SUBSYSTEM FEATURES<br><br>These subsystems are described in Sections 3 through 9.\n",
       "    <hr/>\n",
       "    "
      ],
      "text/plain": [
       "<IPython.core.display.HTML object>"
      ]
     },
     "metadata": {},
     "output_type": "display_data"
    },
    {
     "data": {
      "text/html": [
       "\n",
       "    sample1.pdf : Page, 14\n",
       "\n",
       "    Document Name: sample1.pdf<br>Chapter: 2.4 MISSION OVERVIEW<br><br>The LM2100 spacecraft will be launched and placed in a geostationary operational orbit. After transfer-orbit injection, all TT&C functions will be performed under the control of the A2100 Satellite Operations Center (ASOC) located in Littleton, Colorado. To achieve the on-station operational orbit, the A2100 spacecraft is first injected by the launch vehicle into an inclined elliptical transfer orbit with its apogee at synchronous altitude. After the post separation orbit is established and attitude references obtained, seven separate LAE burns will reduce orbit inclination and increase the perigee in preparation for HCT orbit raising. HCT orbit raising will insert the spacecraft into a near-synchronous orbit.\n",
       "    <hr/>\n",
       "    "
      ],
      "text/plain": [
       "<IPython.core.display.HTML object>"
      ]
     },
     "metadata": {},
     "output_type": "display_data"
    },
    {
     "data": {
      "text/html": [
       "\n",
       "    sample1.pdf : Page, 14\n",
       "\n",
       "    Document Name: sample1.pdf<br>Chapter: 2.5 SATELLITE CONVENTIONS<br><br>The spacecraft attitude convention is established with the +Y spacecraft axis as the roll axis, +Z representing pitch and +X axis defining the yaw axis. Figure 2-8 identifies this coordinate system and the orientation with respect to the north, south, east and west directions.\n",
       "    <hr/>\n",
       "    "
      ],
      "text/plain": [
       "<IPython.core.display.HTML object>"
      ]
     },
     "metadata": {},
     "output_type": "display_data"
    }
   ],
   "source": [
    "from IPython.display import HTML\n",
    "for d in  docs:\n",
    "    m=d.metadata\n",
    "    html=f'''\n",
    "    {m['source']} : Page, {m['page']}\n",
    "\n",
    "    {d.page_content.replace(\"\\n\", \"<br>\")}\n",
    "    <hr/>\n",
    "    '''\n",
    "    display(HTML(html))\n",
    "    break;"
   ]
  },
  {
   "cell_type": "code",
   "execution_count": null,
   "metadata": {},
   "outputs": [
    {
     "data": {
      "text/html": [
       "\n",
       "sample1.pdf : 1\n",
       "\n",
       "Document Name: sample1.pdf<br>Chapter: 2. OVERVIEW AND CONVENTIONS<br>Section: 2.1 SATELLITE OVERVIEW<br><br>The HS4/SGS-1 LM2100 Satellite is designed to provide fixed satellite service (FSS) coverage, broadcast satellite service (BSS), and high throughput service (HTS) to the Middle East, Europe, and South Africa.\n"
      ],
      "text/plain": [
       "<IPython.core.display.HTML object>"
      ]
     },
     "execution_count": 31,
     "metadata": {},
     "output_type": "execute_result"
    }
   ],
   "source": []
  },
  {
   "cell_type": "code",
   "execution_count": null,
   "metadata": {},
   "outputs": [],
   "source": []
  }
 ],
 "metadata": {
  "kernelspec": {
   "display_name": "py312",
   "language": "python",
   "name": "python3"
  },
  "language_info": {
   "codemirror_mode": {
    "name": "ipython",
    "version": 3
   },
   "file_extension": ".py",
   "mimetype": "text/x-python",
   "name": "python",
   "nbconvert_exporter": "python",
   "pygments_lexer": "ipython3",
   "version": "3.12.7"
  }
 },
 "nbformat": 4,
 "nbformat_minor": 2
}
